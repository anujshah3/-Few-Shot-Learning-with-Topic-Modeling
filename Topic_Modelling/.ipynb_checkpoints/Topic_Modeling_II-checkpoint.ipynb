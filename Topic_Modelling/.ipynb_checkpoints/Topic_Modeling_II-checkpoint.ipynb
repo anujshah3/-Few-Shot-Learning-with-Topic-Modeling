{
 "cells": [
  {
   "cell_type": "code",
   "execution_count": 1,
   "metadata": {},
   "outputs": [],
   "source": [
    "def read_data(file):\n",
    "    data = []\n",
    "    with open(file, 'r', encoding='utf-8',\n",
    "                 errors='ignore') as f:\n",
    "        for line in f:\n",
    "            if line.strip() != \"\":\n",
    "                data.append(line.strip())\n",
    "    return data"
   ]
  },
  {
   "cell_type": "code",
   "execution_count": 2,
   "metadata": {},
   "outputs": [
    {
     "name": "stdout",
     "output_type": "stream",
     "text": [
      "Reading data for year: 2000\n",
      "Reading data for year: 2001\n",
      "Reading data for year: 2002\n",
      "Reading data for year: 2003\n",
      "Reading data for year: 2004\n",
      "Reading data for year: 2005\n",
      "Reading data for year: 2006\n",
      "Reading data for year: 2007\n",
      "Reading data for year: 2008\n",
      "Reading data for year: 2009\n",
      "Reading data for year: 2010\n",
      "Reading data for year: 2011\n",
      "Reading data for year: 2012\n",
      "Reading data for year: 2013\n",
      "Reading data for year: 2014\n",
      "Reading data for year: 2015\n",
      "Reading data for year: 2016\n",
      "Reading data for year: 2017\n",
      "Reading data for year: 2018\n"
     ]
    }
   ],
   "source": [
    "data_dict = {}\n",
    "for year in range(2000, 2019):\n",
    "    print(f\"Reading data for year: {year}\")\n",
    "    data_dict[year] = read_data(f\"..//data//{year}.txt\")"
   ]
  },
  {
   "cell_type": "code",
   "execution_count": 3,
   "metadata": {},
   "outputs": [],
   "source": [
    "import warnings\n",
    "warnings.filterwarnings(\"ignore\")"
   ]
  },
  {
   "cell_type": "code",
   "execution_count": null,
   "metadata": {},
   "outputs": [
    {
     "name": "stderr",
     "output_type": "stream",
     "text": [
      "Batches: 100%|████████████████████████████████████████████████████████████████████████████████████████████████████████████████████████████████████████| 9044/9044 [11:39<00:00, 12.93it/s]\n",
      "2022-12-06 18:50:36,684 - BERTopic - Transformed documents to Embeddings\n"
     ]
    }
   ],
   "source": [
    "%%time\n",
    "from bertopic import BERTopic\n",
    "model = BERTopic(verbose=True, embedding_model='paraphrase-MiniLM-L3-v2', min_topic_size= 7)\n",
    "headline_topics, _ = model.fit_transform(data_dict[2018])"
   ]
  },
  {
   "cell_type": "code",
   "execution_count": null,
   "metadata": {},
   "outputs": [],
   "source": [
    "freq = model.get_topic_info()\n",
    "print(\"Number of topics: {}\".format( len(freq)))\n",
    "freq.head()"
   ]
  },
  {
   "cell_type": "code",
   "execution_count": null,
   "metadata": {},
   "outputs": [],
   "source": [
    "a_topic = freq.iloc[1][\"Topic\"] # Select the 1st topic\n",
    "model.get_topic(a_topic) # Show the words and their c-TF-IDF scores"
   ]
  },
  {
   "cell_type": "code",
   "execution_count": null,
   "metadata": {},
   "outputs": [],
   "source": [
    "model.visualize_barchart(top_n_topics=6)"
   ]
  },
  {
   "cell_type": "code",
   "execution_count": null,
   "metadata": {},
   "outputs": [],
   "source": [
    "model.visualize_topics()"
   ]
  },
  {
   "cell_type": "code",
   "execution_count": null,
   "metadata": {},
   "outputs": [],
   "source": []
  }
 ],
 "metadata": {
  "kernelspec": {
   "display_name": "venv_tm",
   "language": "python",
   "name": "venv_tm"
  },
  "language_info": {
   "codemirror_mode": {
    "name": "ipython",
    "version": 3
   },
   "file_extension": ".py",
   "mimetype": "text/x-python",
   "name": "python",
   "nbconvert_exporter": "python",
   "pygments_lexer": "ipython3",
   "version": "3.7.0"
  },
  "vscode": {
   "interpreter": {
    "hash": "fa3053b19b748457bbedb3545673427c7c005ac253b354eaff3f2402df8b4632"
   }
  }
 },
 "nbformat": 4,
 "nbformat_minor": 2
}
