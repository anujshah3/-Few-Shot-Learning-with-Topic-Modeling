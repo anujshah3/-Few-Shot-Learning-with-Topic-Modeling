{
 "cells": [
  {
   "cell_type": "code",
   "execution_count": 1,
   "id": "18025b1d",
   "metadata": {},
   "outputs": [],
   "source": [
    "# !pip install PyPDF2\n",
    "from PyPDF2 import PdfFileReader\n",
    "import re\n",
    "import pandas as pd"
   ]
  },
  {
   "cell_type": "code",
   "execution_count": 2,
   "id": "cc5a2a24",
   "metadata": {},
   "outputs": [],
   "source": [
    "def extract_information(pdf_path):\n",
    "    pdf_data = \"\"\n",
    "    with open(pdf_path, 'rb') as f:\n",
    "        pdf = PdfFileReader(f)\n",
    "        information = pdf.getDocumentInfo()\n",
    "        number_of_pages = pdf.getNumPages()\n",
    "        ifrs_data = []\n",
    "        merged_content = \"\"\n",
    "        start_flag = 0\n",
    "        pattern = \"(.*?)\\s([1-9][0-9][0-9]|[1-9][0-9]|[0-9]\\s)\"\n",
    "        for page_n in range(number_of_pages):\n",
    "            page = pdf.pages[page_n]\n",
    "            data = (page.extract_text() + \"\\n\\n\").lstrip()\n",
    "            content_start = \"OBJECTIVE\"\n",
    "            content_end = \"APPENDICES\"\n",
    "            content_head_start = \"INTERNATIONAL FINANCIAL REPORTING STANDARD 15 REVENUE FROM CONTRACTS WITH CUSTOMERS\".replace(\" \", \"(\\s|\\n)\")\n",
    "            content_head_end = \"Appendix A\"\n",
    "            if data.startswith(\"CONTENT\"):\n",
    "                heads = data[data.index(content_start): data.index(content_end)].replace(\"\\n\", \" \").replace(\"  \", \" \")\n",
    "                match = re.findall(pattern, heads)\n",
    "                prev_para = 1\n",
    "                for head, para_num in match:\n",
    "                    para_num = int(para_num.strip())\n",
    "                    head = head.strip()\n",
    "                    if head.isupper():\n",
    "                        head = head.capitalize()\n",
    "                    ifrs_data.append({\n",
    "                        \"Paragraph\": para_num,\n",
    "                        \"Tag\": head\n",
    "                    })\n",
    "            if re.match(content_head_end, data, re.I):\n",
    "                start_flag = 0\n",
    "                merged_content += \"\\n\" + content_head_end\n",
    "            elif re.match(content_head_start, data, re.I):\n",
    "                start_flag = 1\n",
    "                merged_content = \"\"\n",
    "            if start_flag:\n",
    "                ending_dirt_text_cp_pattern = \"(A\\d+ © IFRS Foundation|© IFRS Foundation A\\d+)\"\n",
    "                ending_dirt_text_num_pattern = \"(\\d+\\n)*(\\d+IFRS 15\\s\\n)$\"\n",
    "                if re.search(ending_dirt_text_cp_pattern, data, re.I):\n",
    "                    data = re.sub(ending_dirt_text_cp_pattern, \"\", data)\n",
    "                if re.search(ending_dirt_text_num_pattern, data, re.I):\n",
    "                    data = re.sub(ending_dirt_text_num_pattern, \"\", data)\n",
    "                merged_content += data\n",
    "        merged_content = merged_content.replace(\"\\n\", \"$$$\")\n",
    "        for i in range(len(ifrs_data)):\n",
    "            if i == len(ifrs_data) - 1:\n",
    "                match_paragraph_pattern =  \"\\$\\$\\$\" + ifrs_data[i][\"Tag\"] + \"\\$\\$\\$\" + \"(.*?)\" + \"\\$\\$\\$\" + content_head_end + \"\\$\\$\\$\"\n",
    "                match = re.search(match_paragraph_pattern, merged_content)\n",
    "            else:\n",
    "                match_paragraph_pattern = \"\\$\\$\\$\" + ifrs_data[i][\"Tag\"] + \"\\$\\$\\$\" + \"(.*?)\" + \"\\$\\$\\$\" + ifrs_data[i+1][\"Tag\"] + \"\\$\\$\\$\"\n",
    "                match = re.search(match_paragraph_pattern, merged_content)\n",
    "            if match and match.group(1).strip():\n",
    "                ifrs_data[i][\"data\"] = match.group(1).replace(\"$$$\", \" \").strip().replace(\"  \", \" \").replace(\" .\", \".\").replace(\" -\", \" - \")\n",
    "\n",
    "        # for ifrs in ifrs_data:\n",
    "        #     print(\"-\" if \"data\" in ifrs else str(ifrs['Paragraph']) + \"-\" + ifrs['Tag'] + \"-Missing!\")\n",
    "#        Para missing data: 91, 95, 113, 123, 127\n",
    "    return ifrs_data"
   ]
  },
  {
   "cell_type": "code",
   "execution_count": 3,
   "id": "300ca7c9",
   "metadata": {},
   "outputs": [],
   "source": [
    "file = \"..//data//IFRS15.pdf\"\n",
    "ifrs_data = extract_information(file)"
   ]
  },
  {
   "cell_type": "code",
   "execution_count": 4,
   "id": "cb5d5694",
   "metadata": {},
   "outputs": [],
   "source": [
    "ifrs_data = [ifrs for ifrs in ifrs_data if \"data\" in ifrs]"
   ]
  },
  {
   "cell_type": "code",
   "execution_count": 5,
   "id": "e765cc54",
   "metadata": {},
   "outputs": [],
   "source": [
    "# !pip install git+https://github.com/pmbaumgartner/setfit -q"
   ]
  },
  {
   "cell_type": "code",
   "execution_count": 6,
   "id": "9ff2ca0f",
   "metadata": {},
   "outputs": [],
   "source": [
    "df = pd.DataFrame(ifrs_data, columns=['Tag', 'data'])"
   ]
  },
  {
   "cell_type": "code",
   "execution_count": 7,
   "id": "a99fd3fa",
   "metadata": {},
   "outputs": [
    {
     "data": {
      "text/html": [
       "<div>\n",
       "<style scoped>\n",
       "    .dataframe tbody tr th:only-of-type {\n",
       "        vertical-align: middle;\n",
       "    }\n",
       "\n",
       "    .dataframe tbody tr th {\n",
       "        vertical-align: top;\n",
       "    }\n",
       "\n",
       "    .dataframe thead th {\n",
       "        text-align: right;\n",
       "    }\n",
       "</style>\n",
       "<table border=\"1\" class=\"dataframe\">\n",
       "  <thead>\n",
       "    <tr style=\"text-align: right;\">\n",
       "      <th></th>\n",
       "      <th>Tag</th>\n",
       "      <th>data</th>\n",
       "    </tr>\n",
       "  </thead>\n",
       "  <tbody>\n",
       "    <tr>\n",
       "      <th>0</th>\n",
       "      <td>Objective</td>\n",
       "      <td>The objective of this Standard is to establish...</td>\n",
       "    </tr>\n",
       "    <tr>\n",
       "      <th>1</th>\n",
       "      <td>Meeting the objective</td>\n",
       "      <td>To meet the objective in paragraph 1, the core...</td>\n",
       "    </tr>\n",
       "    <tr>\n",
       "      <th>2</th>\n",
       "      <td>Scope</td>\n",
       "      <td>An entity shall apply this Standard to all con...</td>\n",
       "    </tr>\n",
       "    <tr>\n",
       "      <th>3</th>\n",
       "      <td>Identifying the contract</td>\n",
       "      <td>An entity shall account for a contract with a ...</td>\n",
       "    </tr>\n",
       "    <tr>\n",
       "      <th>4</th>\n",
       "      <td>Combination of contracts</td>\n",
       "      <td>An entity shall combine two or more contracts ...</td>\n",
       "    </tr>\n",
       "    <tr>\n",
       "      <th>5</th>\n",
       "      <td>Contract modifications</td>\n",
       "      <td>A contract modification is a change in the sco...</td>\n",
       "    </tr>\n",
       "    <tr>\n",
       "      <th>6</th>\n",
       "      <td>Identifying performance obligations</td>\n",
       "      <td>At contract inception, an entity shall assess ...</td>\n",
       "    </tr>\n",
       "    <tr>\n",
       "      <th>7</th>\n",
       "      <td>Satisfaction of performance obligations</td>\n",
       "      <td>An entity shall recognise revenue when (or as)...</td>\n",
       "    </tr>\n",
       "    <tr>\n",
       "      <th>8</th>\n",
       "      <td>Measurement</td>\n",
       "      <td>When (or as) a performance obligation is satis...</td>\n",
       "    </tr>\n",
       "    <tr>\n",
       "      <th>9</th>\n",
       "      <td>Changes in the transaction price</td>\n",
       "      <td>After contract inception, the transaction pric...</td>\n",
       "    </tr>\n",
       "    <tr>\n",
       "      <th>10</th>\n",
       "      <td>Amortisation and impairment</td>\n",
       "      <td>An asset recognised in accordance with paragra...</td>\n",
       "    </tr>\n",
       "    <tr>\n",
       "      <th>11</th>\n",
       "      <td>Presentation</td>\n",
       "      <td>When either party to a contract has performed,...</td>\n",
       "    </tr>\n",
       "    <tr>\n",
       "      <th>12</th>\n",
       "      <td>Disclosure</td>\n",
       "      <td>The objective of the disclosure requirements i...</td>\n",
       "    </tr>\n",
       "  </tbody>\n",
       "</table>\n",
       "</div>"
      ],
      "text/plain": [
       "                                        Tag  \\\n",
       "0                                 Objective   \n",
       "1                     Meeting the objective   \n",
       "2                                     Scope   \n",
       "3                  Identifying the contract   \n",
       "4                  Combination of contracts   \n",
       "5                    Contract modifications   \n",
       "6       Identifying performance obligations   \n",
       "7   Satisfaction of performance obligations   \n",
       "8                               Measurement   \n",
       "9          Changes in the transaction price   \n",
       "10              Amortisation and impairment   \n",
       "11                             Presentation   \n",
       "12                               Disclosure   \n",
       "\n",
       "                                                 data  \n",
       "0   The objective of this Standard is to establish...  \n",
       "1   To meet the objective in paragraph 1, the core...  \n",
       "2   An entity shall apply this Standard to all con...  \n",
       "3   An entity shall account for a contract with a ...  \n",
       "4   An entity shall combine two or more contracts ...  \n",
       "5   A contract modification is a change in the sco...  \n",
       "6   At contract inception, an entity shall assess ...  \n",
       "7   An entity shall recognise revenue when (or as)...  \n",
       "8   When (or as) a performance obligation is satis...  \n",
       "9   After contract inception, the transaction pric...  \n",
       "10  An asset recognised in accordance with paragra...  \n",
       "11  When either party to a contract has performed,...  \n",
       "12  The objective of the disclosure requirements i...  "
      ]
     },
     "execution_count": 7,
     "metadata": {},
     "output_type": "execute_result"
    }
   ],
   "source": [
    "df"
   ]
  },
  {
   "cell_type": "code",
   "execution_count": 8,
   "id": "e06aa91d",
   "metadata": {},
   "outputs": [],
   "source": [
    "from setfit import SetFitClassifier"
   ]
  },
  {
   "cell_type": "code",
   "execution_count": 9,
   "id": "2bd7f3fc",
   "metadata": {},
   "outputs": [],
   "source": [
    "clf = SetFitClassifier(\"paraphrase-MiniLM-L3-v2\")"
   ]
  },
  {
   "cell_type": "code",
   "execution_count": 10,
   "id": "7cf0b595",
   "metadata": {},
   "outputs": [],
   "source": [
    "docs = df['data'].to_list()\n",
    "labels = df['Tag'].to_list()"
   ]
  },
  {
   "cell_type": "code",
   "execution_count": 11,
   "id": "efd24a41",
   "metadata": {},
   "outputs": [
    {
     "data": {
      "application/vnd.jupyter.widget-view+json": {
       "model_id": "3c6439d6eb7d4e548b4cc437bef33455",
       "version_major": 2,
       "version_minor": 0
      },
      "text/plain": [
       "Epoch:   0%|          | 0/1 [00:00<?, ?it/s]"
      ]
     },
     "metadata": {},
     "output_type": "display_data"
    },
    {
     "data": {
      "application/vnd.jupyter.widget-view+json": {
       "model_id": "7f9d0282d62349a39aa811008570652d",
       "version_major": 2,
       "version_minor": 0
      },
      "text/plain": [
       "Iteration:   0%|          | 0/9 [00:00<?, ?it/s]"
      ]
     },
     "metadata": {},
     "output_type": "display_data"
    }
   ],
   "source": [
    "clf.fit(docs, labels) "
   ]
  },
  {
   "cell_type": "code",
   "execution_count": 12,
   "id": "eac46908",
   "metadata": {},
   "outputs": [],
   "source": [
    "test_data = [\n",
    "                {\"Tag\": \"Recognition\", \"data\": \"the customer can benefit from the good or service either on its own or together with other resources that are readily available to the customer (ie the good or service is capable of being distinct);\"}, \n",
    "                {\"Tag\": \"Objective\", \"data\": \"\"\"The objective of this Standard is to establish the principles that an entity shall apply to report useful information to users of financial statements about the nature, amount, timing and uncertainty of revenue and cash flows arising from a contract with a customer.\"\"\"}\n",
    "            ]"
   ]
  },
  {
   "cell_type": "code",
   "execution_count": 13,
   "id": "9e1f41c5",
   "metadata": {},
   "outputs": [],
   "source": [
    "df_test = pd.DataFrame(test_data, columns=['Tag', 'data'])"
   ]
  },
  {
   "cell_type": "code",
   "execution_count": 14,
   "id": "27b6d49d",
   "metadata": {},
   "outputs": [],
   "source": [
    "df_test['predicted'] = clf.predict(df_test['data'].to_list())"
   ]
  },
  {
   "cell_type": "code",
   "execution_count": 15,
   "id": "a9d4f819",
   "metadata": {},
   "outputs": [
    {
     "data": {
      "text/html": [
       "<div>\n",
       "<style scoped>\n",
       "    .dataframe tbody tr th:only-of-type {\n",
       "        vertical-align: middle;\n",
       "    }\n",
       "\n",
       "    .dataframe tbody tr th {\n",
       "        vertical-align: top;\n",
       "    }\n",
       "\n",
       "    .dataframe thead th {\n",
       "        text-align: right;\n",
       "    }\n",
       "</style>\n",
       "<table border=\"1\" class=\"dataframe\">\n",
       "  <thead>\n",
       "    <tr style=\"text-align: right;\">\n",
       "      <th></th>\n",
       "      <th>Tag</th>\n",
       "      <th>data</th>\n",
       "      <th>predicted</th>\n",
       "    </tr>\n",
       "  </thead>\n",
       "  <tbody>\n",
       "    <tr>\n",
       "      <th>0</th>\n",
       "      <td>Recognition</td>\n",
       "      <td>the customer can benefit from the good or serv...</td>\n",
       "      <td>Identifying performance obligations</td>\n",
       "    </tr>\n",
       "    <tr>\n",
       "      <th>1</th>\n",
       "      <td>Objective</td>\n",
       "      <td>The objective of this Standard is to establish...</td>\n",
       "      <td>Objective</td>\n",
       "    </tr>\n",
       "  </tbody>\n",
       "</table>\n",
       "</div>"
      ],
      "text/plain": [
       "           Tag                                               data  \\\n",
       "0  Recognition  the customer can benefit from the good or serv...   \n",
       "1    Objective  The objective of this Standard is to establish...   \n",
       "\n",
       "                             predicted  \n",
       "0  Identifying performance obligations  \n",
       "1                            Objective  "
      ]
     },
     "execution_count": 15,
     "metadata": {},
     "output_type": "execute_result"
    }
   ],
   "source": [
    "df_test"
   ]
  },
  {
   "cell_type": "code",
   "execution_count": 18,
   "id": "64c20964",
   "metadata": {},
   "outputs": [],
   "source": [
    "from sklearn.metrics import confusion_matrix, ConfusionMatrixDisplay\n",
    "import matplotlib.pyplot as plt"
   ]
  },
  {
   "cell_type": "code",
   "execution_count": 19,
   "id": "145e2d72",
   "metadata": {},
   "outputs": [
    {
     "data": {
      "text/plain": [
       "array([[0, 0, 0],\n",
       "       [0, 1, 0],\n",
       "       [1, 0, 0]], dtype=int64)"
      ]
     },
     "execution_count": 19,
     "metadata": {},
     "output_type": "execute_result"
    }
   ],
   "source": [
    "cm = confusion_matrix(df_test['Tag'], df_test['predicted'])\n",
    "cm"
   ]
  },
  {
   "cell_type": "code",
   "execution_count": null,
   "id": "6e59cd76",
   "metadata": {},
   "outputs": [],
   "source": []
  },
  {
   "cell_type": "code",
   "execution_count": 20,
   "id": "8593cac6",
   "metadata": {},
   "outputs": [],
   "source": [
    "disp = ConfusionMatrixDisplay(confusion_matrix=cm)"
   ]
  },
  {
   "cell_type": "code",
   "execution_count": 21,
   "id": "e2015a03",
   "metadata": {},
   "outputs": [
    {
     "data": {
      "text/plain": [
       "<sklearn.metrics._plot.confusion_matrix.ConfusionMatrixDisplay at 0x17fa29f60b8>"
      ]
     },
     "execution_count": 21,
     "metadata": {},
     "output_type": "execute_result"
    },
    {
     "data": {
      "image/png": "[encoded data removed]",
      "text/plain": [
       "<Figure size 640x480 with 2 Axes>"
      ]
     },
     "metadata": {},
     "output_type": "display_data"
    }
   ],
   "source": [
    "disp.plot()"
   ]
  },
  {
   "cell_type": "markdown",
   "id": "191fed57",
   "metadata": {},
   "source": []
  },
  {
   "cell_type": "code",
   "execution_count": null,
   "id": "1d9d5e4a",
   "metadata": {},
   "outputs": [],
   "source": []
  }
 ],
 "metadata": {
  "kernelspec": {
   "display_name": "venv_fsl_I",
   "language": "python",
   "name": "venv_fsl_i"
  },
  "language_info": {
   "codemirror_mode": {
    "name": "ipython",
    "version": 3
   },
   "file_extension": ".py",
   "mimetype": "text/x-python",
   "name": "python",
   "nbconvert_exporter": "python",
   "pygments_lexer": "ipython3",
   "version": "3.7.0"
  }
 },
 "nbformat": 4,
 "nbformat_minor": 5
}
