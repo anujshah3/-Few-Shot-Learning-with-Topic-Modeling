{
 "cells": [
  {
   "cell_type": "code",
   "execution_count": 1,
   "id": "9245dd96",
   "metadata": {},
   "outputs": [],
   "source": [
    "import numpy as np\n",
    "import pandas as pd\n",
    "from sklearn.model_selection import train_test_split\n",
    "import os\n",
    "import torch"
   ]
  },
  {
   "cell_type": "code",
   "execution_count": 2,
   "id": "ccc4511a",
   "metadata": {},
   "outputs": [],
   "source": [
    "from fewshot.data.loaders import (\n",
    "    load_or_cache_data,\n",
    "    _load_agnews_dataset,\n",
    "    _create_dataset_from_df,\n",
    ")\n",
    "\n",
    "from fewshot.data.utils import select_subsample, expand_labels\n",
    "\n",
    "from fewshot.eval import predict_and_score\n",
    "\n",
    "from fewshot.utils import fewshot_filename, torch_load, torch_save, pickle_load\n",
    "\n",
    "from fewshot.models.few_shot import (\n",
    "    FewShotLinearRegression,\n",
    "    BayesianMSELoss,\n",
    "    prepare_dataloader,\n",
    "    train,\n",
    ")"
   ]
  },
  {
   "cell_type": "code",
   "execution_count": 3,
   "id": "ddde76e5",
   "metadata": {},
   "outputs": [],
   "source": [
    "filename = \"../data/bulletin-dataset-tm-fsl.csv\"\n",
    "test_filename = \"../data/test-bulletin-dataset-tm-fsl.csv\""
   ]
  },
  {
   "cell_type": "code",
   "execution_count": 4,
   "id": "279b636f",
   "metadata": {},
   "outputs": [
    {
     "data": {
      "text/html": [
       "<div>\n",
       "<style scoped>\n",
       "    .dataframe tbody tr th:only-of-type {\n",
       "        vertical-align: middle;\n",
       "    }\n",
       "\n",
       "    .dataframe tbody tr th {\n",
       "        vertical-align: top;\n",
       "    }\n",
       "\n",
       "    .dataframe thead th {\n",
       "        text-align: right;\n",
       "    }\n",
       "</style>\n",
       "<table border=\"1\" class=\"dataframe\">\n",
       "  <thead>\n",
       "    <tr style=\"text-align: right;\">\n",
       "      <th></th>\n",
       "      <th>label</th>\n",
       "      <th>text</th>\n",
       "      <th>category</th>\n",
       "    </tr>\n",
       "  </thead>\n",
       "  <tbody>\n",
       "    <tr>\n",
       "      <th>0</th>\n",
       "      <td>0</td>\n",
       "      <td>The Associate offices ordinarily do not issue ...</td>\n",
       "      <td>legislation</td>\n",
       "    </tr>\n",
       "    <tr>\n",
       "      <th>1</th>\n",
       "      <td>0</td>\n",
       "      <td>The taxpayer is strongly encouraged to inform ...</td>\n",
       "      <td>legislation</td>\n",
       "    </tr>\n",
       "    <tr>\n",
       "      <th>2</th>\n",
       "      <td>0</td>\n",
       "      <td>When filing the request, the taxpayer must ide...</td>\n",
       "      <td>legislation</td>\n",
       "    </tr>\n",
       "    <tr>\n",
       "      <th>3</th>\n",
       "      <td>0</td>\n",
       "      <td>The taxpayer also must notify the Associate of...</td>\n",
       "      <td>legislation</td>\n",
       "    </tr>\n",
       "    <tr>\n",
       "      <th>4</th>\n",
       "      <td>0</td>\n",
       "      <td>The question must be on the interpretation and...</td>\n",
       "      <td>legislation</td>\n",
       "    </tr>\n",
       "  </tbody>\n",
       "</table>\n",
       "</div>"
      ],
      "text/plain": [
       "   label                                               text     category\n",
       "0      0  The Associate offices ordinarily do not issue ...  legislation\n",
       "1      0  The taxpayer is strongly encouraged to inform ...  legislation\n",
       "2      0  When filing the request, the taxpayer must ide...  legislation\n",
       "3      0  The taxpayer also must notify the Associate of...  legislation\n",
       "4      0  The question must be on the interpretation and...  legislation"
      ]
     },
     "execution_count": 4,
     "metadata": {},
     "output_type": "execute_result"
    }
   ],
   "source": [
    "df = pd.read_csv(filename)\n",
    "df.head()"
   ]
  },
  {
   "cell_type": "code",
   "execution_count": 5,
   "id": "cbcbcf14",
   "metadata": {},
   "outputs": [
    {
     "data": {
      "text/html": [
       "<div>\n",
       "<style scoped>\n",
       "    .dataframe tbody tr th:only-of-type {\n",
       "        vertical-align: middle;\n",
       "    }\n",
       "\n",
       "    .dataframe tbody tr th {\n",
       "        vertical-align: top;\n",
       "    }\n",
       "\n",
       "    .dataframe thead th {\n",
       "        text-align: right;\n",
       "    }\n",
       "</style>\n",
       "<table border=\"1\" class=\"dataframe\">\n",
       "  <thead>\n",
       "    <tr style=\"text-align: right;\">\n",
       "      <th></th>\n",
       "      <th>label</th>\n",
       "      <th>text</th>\n",
       "      <th>category</th>\n",
       "    </tr>\n",
       "  </thead>\n",
       "  <tbody>\n",
       "    <tr>\n",
       "      <th>0</th>\n",
       "      <td>0</td>\n",
       "      <td>Are copies of the enacting legislation providi...</td>\n",
       "      <td>legislation</td>\n",
       "    </tr>\n",
       "    <tr>\n",
       "      <th>1</th>\n",
       "      <td>0</td>\n",
       "      <td>The question must be on the interpretation and...</td>\n",
       "      <td>legislation</td>\n",
       "    </tr>\n",
       "    <tr>\n",
       "      <th>2</th>\n",
       "      <td>2</td>\n",
       "      <td>Whether § 302(b) applies to a redemption of st...</td>\n",
       "      <td>corporation</td>\n",
       "    </tr>\n",
       "    <tr>\n",
       "      <th>3</th>\n",
       "      <td>2</td>\n",
       "      <td>The tax effects of a transaction in which ther...</td>\n",
       "      <td>corporation</td>\n",
       "    </tr>\n",
       "    <tr>\n",
       "      <th>4</th>\n",
       "      <td>1</td>\n",
       "      <td>The Office of Associate Chief Counsel (Tax Exe...</td>\n",
       "      <td>compensation</td>\n",
       "    </tr>\n",
       "  </tbody>\n",
       "</table>\n",
       "</div>"
      ],
      "text/plain": [
       "   label                                               text      category\n",
       "0      0  Are copies of the enacting legislation providi...   legislation\n",
       "1      0  The question must be on the interpretation and...   legislation\n",
       "2      2  Whether § 302(b) applies to a redemption of st...   corporation\n",
       "3      2  The tax effects of a transaction in which ther...   corporation\n",
       "4      1  The Office of Associate Chief Counsel (Tax Exe...  compensation"
      ]
     },
     "execution_count": 5,
     "metadata": {},
     "output_type": "execute_result"
    }
   ],
   "source": [
    "df_test = pd.read_csv(test_filename)\n",
    "df_test.head()"
   ]
  },
  {
   "cell_type": "code",
   "execution_count": 6,
   "id": "8c6d02ac",
   "metadata": {},
   "outputs": [],
   "source": [
    "DATASET_NAME = \"bulletin-dataset-tm-fsl\"\n",
    "DATADIR = f\"../data/{DATASET_NAME}\"\n",
    "\n",
    "# convert that DataFrame to a Dataset\n",
    "ds_filename = fewshot_filename(f\"{DATADIR}/{DATASET_NAME}_train_dataset.pkl\")\n",
    "\n",
    "if os.path.exists(ds_filename):\n",
    "    df_train_subset = pickle_load(ds_filename)\n",
    "else:\n",
    "    df_train_subset = _create_dataset_from_df(\n",
    "        df, text_column=\"text\", filename=ds_filename\n",
    "    )"
   ]
  },
  {
   "cell_type": "code",
   "execution_count": 7,
   "id": "d4ab510c",
   "metadata": {},
   "outputs": [
    {
     "name": "stderr",
     "output_type": "stream",
     "text": [
      "Computing sentence representations: 100%|████████████████████████████████████████████████| 1/1 [00:05<00:00,  5.79s/it]"
     ]
    },
    {
     "name": "stdout",
     "output_type": "stream",
     "text": [
      "C:\\Users\\UIF13879\\Documents\\Anuj Shah\\School\\ISR\\Project\\Final Project\\Few-Shot-Learning-with-Topic-Modeling\\few-shot-learning-II\\few-shot-text-classification\\..\\data\\bulletin-dataset-tm-fsl\\bulletin-dataset-tm-fsl_test_dataset.pkl already exists! Please use overwrite flag.\n"
     ]
    },
    {
     "name": "stderr",
     "output_type": "stream",
     "text": [
      "\n"
     ]
    }
   ],
   "source": [
    "ds_filename = fewshot_filename(f\"{DATADIR}/{DATASET_NAME}_test_dataset.pkl\")\n",
    "\n",
    "df_test_subset = _create_dataset_from_df(\n",
    "    df_test, text_column=\"text\", filename=ds_filename\n",
    ")\n",
    "if os.path.exists(ds_filename):\n",
    "    test_dataset = pickle_load(ds_filename)\n",
    "else:\n",
    "    test_dataset = _create_dataset_from_df(\n",
    "        df, text_column=\"text\", filename=ds_filename\n",
    "    )"
   ]
  },
  {
   "cell_type": "code",
   "execution_count": 8,
   "id": "3cad2ac2",
   "metadata": {},
   "outputs": [],
   "source": [
    "# this is required due the particular implementation details of our Dataset class\n",
    "df_train_subset = expand_labels(df_train_subset)"
   ]
  },
  {
   "cell_type": "code",
   "execution_count": 9,
   "id": "20653e7f",
   "metadata": {},
   "outputs": [],
   "source": [
    "Zmap = torch.load(fewshot_filename(\"data/maps/Zmap_20000_words.pt\"))"
   ]
  },
  {
   "cell_type": "code",
   "execution_count": 10,
   "id": "119feef8",
   "metadata": {},
   "outputs": [],
   "source": [
    "data_loader = prepare_dataloader(df_train_subset, Zmap)"
   ]
  },
  {
   "cell_type": "code",
   "execution_count": 11,
   "id": "ac185f57",
   "metadata": {},
   "outputs": [],
   "source": [
    "# instantiate the model\n",
    "device = \"cpu\"\n",
    "learning_rate = 0.1\n",
    "lambda_regularization = 1500\n",
    "num_epochs = 2000"
   ]
  },
  {
   "cell_type": "code",
   "execution_count": 12,
   "id": "d9ee6aa6",
   "metadata": {},
   "outputs": [],
   "source": [
    "fewshot_model = FewShotLinearRegression(\n",
    "    Zmap.size()[1],\n",
    "    Zmap.size()[1],\n",
    "    loss_fcn=BayesianMSELoss(device=device),\n",
    "    lr=learning_rate,\n",
    "    device=device,\n",
    ")"
   ]
  },
  {
   "cell_type": "code",
   "execution_count": 13,
   "id": "192b362a",
   "metadata": {},
   "outputs": [],
   "source": [
    "loss_history = train(\n",
    "    fewshot_model, data_loader, num_epochs=num_epochs, lam=lambda_regularization\n",
    ")"
   ]
  },
  {
   "cell_type": "code",
   "execution_count": 14,
   "id": "ce676e44",
   "metadata": {},
   "outputs": [],
   "source": [
    "Wmap = fewshot_model.linear.weight.detach().cpu()"
   ]
  },
  {
   "cell_type": "code",
   "execution_count": 15,
   "id": "4003390b",
   "metadata": {},
   "outputs": [
    {
     "name": "stdout",
     "output_type": "stream",
     "text": [
      "50.0\n"
     ]
    }
   ],
   "source": [
    "score = predict_and_score(\n",
    "    test_dataset, linear_maps=[Zmap, Wmap], return_predictions=False\n",
    ")\n",
    "print(score)"
   ]
  },
  {
   "cell_type": "code",
   "execution_count": null,
   "id": "14d06bd8",
   "metadata": {},
   "outputs": [],
   "source": []
  }
 ],
 "metadata": {
  "kernelspec": {
   "display_name": "venv_fsl_II",
   "language": "python",
   "name": "venv_fsl_ii"
  },
  "language_info": {
   "codemirror_mode": {
    "name": "ipython",
    "version": 3
   },
   "file_extension": ".py",
   "mimetype": "text/x-python",
   "name": "python",
   "nbconvert_exporter": "python",
   "pygments_lexer": "ipython3",
   "version": "3.7.0"
  }
 },
 "nbformat": 4,
 "nbformat_minor": 5
}
